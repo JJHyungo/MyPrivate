{
  "nbformat": 4,
  "nbformat_minor": 0,
  "metadata": {
    "colab": {
      "name": "RNN-Helloworld-Jinho.ipynb",
      "provenance": [],
      "collapsed_sections": [],
      "include_colab_link": true
    },
    "kernelspec": {
      "name": "python3",
      "display_name": "Python 3"
    }
  },
  "cells": [
    {
      "cell_type": "markdown",
      "metadata": {
        "id": "view-in-github",
        "colab_type": "text"
      },
      "source": [
        "<a href=\"https://colab.research.google.com/github/JJHyungo/MyPrivate/blob/master/RNN_Helloworld_Jinho.ipynb\" target=\"_parent\"><img src=\"https://colab.research.google.com/assets/colab-badge.svg\" alt=\"Open In Colab\"/></a>"
      ]
    },
    {
      "cell_type": "code",
      "metadata": {
        "id": "S5hNJOidAQe_",
        "colab_type": "code",
        "colab": {}
      },
      "source": [
        "import torch\n",
        "from torch import nn\n",
        "import numpy as np"
      ],
      "execution_count": 0,
      "outputs": []
    },
    {
      "cell_type": "code",
      "metadata": {
        "id": "8lHt0OdUAWbh",
        "colab_type": "code",
        "outputId": "30c52383-3d0a-4660-c18d-56e971a8c648",
        "colab": {
          "base_uri": "https://localhost:8080/",
          "height": 68
        }
      },
      "source": [
        "# # input_text = 'hello'\n",
        "# input_text = ['hello']\n",
        "# # text = ['hello']\n",
        "\n",
        "# # Join all the sentences together and extract the unique characters from the combined sentences\n",
        "# chars = set(''.join(input_text))\n",
        "# print(chars)\n",
        "# # Creating a dictionary that maps integers to the characters\n",
        "# int2char = dict(enumerate(chars))\n",
        "# print(int2char)\n",
        "\n",
        "# # Creating another dictionary that maps characters to integers\n",
        "# char2int = {char: ind for ind, char in int2char.items()}\n",
        "# print(char2int)\n",
        "\n",
        "# # Creating lists that will hold our input and target sequences\n",
        "# input_seq = []\n",
        "# target_seq = []\n",
        "\n",
        "# input_seq = input_text[:-1]\n",
        "# target_seq = input_text[1:]\n",
        "# print(\"Input Sequence: {}\\nTarget Sequence: {}\".format(input_seq, target_seq))\n",
        "\n",
        "input_text = ['hey how are you','good i am fine','have a nice day']\n",
        "# input_text = ['hello']\n",
        "\n",
        "# Join all the sentences together and extract the unique characters from the combined sentences\n",
        "chars = sorted(set(''.join(input_text)))\n",
        "print(chars)\n",
        "\n",
        "# Creating a dictionary that maps integers to the characters\n",
        "int2char = dict(enumerate(chars))\n",
        "print(int2char)\n",
        "\n",
        "# Creating another dictionary that maps characters to integers\n",
        "char2int = {char: ind for ind, char in int2char.items()}\n",
        "print(char2int)"
      ],
      "execution_count": 0,
      "outputs": [
        {
          "output_type": "stream",
          "text": [
            "[' ', 'a', 'c', 'd', 'e', 'f', 'g', 'h', 'i', 'm', 'n', 'o', 'r', 'u', 'v', 'w', 'y']\n",
            "{0: ' ', 1: 'a', 2: 'c', 3: 'd', 4: 'e', 5: 'f', 6: 'g', 7: 'h', 8: 'i', 9: 'm', 10: 'n', 11: 'o', 12: 'r', 13: 'u', 14: 'v', 15: 'w', 16: 'y'}\n",
            "{' ': 0, 'a': 1, 'c': 2, 'd': 3, 'e': 4, 'f': 5, 'g': 6, 'h': 7, 'i': 8, 'm': 9, 'n': 10, 'o': 11, 'r': 12, 'u': 13, 'v': 14, 'w': 15, 'y': 16}\n"
          ],
          "name": "stdout"
        }
      ]
    },
    {
      "cell_type": "code",
      "metadata": {
        "id": "rfJ87v2IRhq0",
        "colab_type": "code",
        "outputId": "45def2b5-07c9-4d5b-a45d-769c31fd2e46",
        "colab": {
          "base_uri": "https://localhost:8080/",
          "height": 34
        }
      },
      "source": [
        "maxlen = len(max(input_text, key=len))\n",
        "print(\"The longest string has {} characters\".format(maxlen))"
      ],
      "execution_count": 0,
      "outputs": [
        {
          "output_type": "stream",
          "text": [
            "The longest string has 15 characters\n"
          ],
          "name": "stdout"
        }
      ]
    },
    {
      "cell_type": "code",
      "metadata": {
        "id": "vmh3Z4w9RjQU",
        "colab_type": "code",
        "colab": {}
      },
      "source": [
        "# Padding\n",
        "\n",
        "# A simple loop that loops through the list of sentences and   \n",
        "# adds a ' ' whitespace until the length of the sentence matches  \n",
        "# the length of the longest sentence  \n",
        "for i in range(len(input_text)):\n",
        "    while len(input_text[i])<maxlen:\n",
        "        input_text[i] += ' '"
      ],
      "execution_count": 0,
      "outputs": []
    },
    {
      "cell_type": "code",
      "metadata": {
        "id": "OihUg3lzmxuq",
        "colab_type": "code",
        "outputId": "3be3e9a6-6fdb-4cd3-9219-188a3dabbf08",
        "colab": {
          "base_uri": "https://localhost:8080/",
          "height": 119
        }
      },
      "source": [
        "# Creating lists that will hold our input and target sequences\n",
        "input_seq = []\n",
        "target_seq = []\n",
        "\n",
        "for i in range(len(input_text)):\n",
        "    # Remove last character for input sequence\n",
        "    input_seq.append(input_text[i][:-1])\n",
        "    \n",
        "    # Remove firsts character for target sequence\n",
        "    target_seq.append(input_text[i][1:])\n",
        "    print(\"Input Sequence: {}\\nTarget Sequence: {}\".format(input_seq[i], target_seq[i]))\n",
        "\n"
      ],
      "execution_count": 0,
      "outputs": [
        {
          "output_type": "stream",
          "text": [
            "Input Sequence: hey how are yo\n",
            "Target Sequence: ey how are you\n",
            "Input Sequence: good i am fine\n",
            "Target Sequence: ood i am fine \n",
            "Input Sequence: have a nice da\n",
            "Target Sequence: ave a nice day\n"
          ],
          "name": "stdout"
        }
      ]
    },
    {
      "cell_type": "code",
      "metadata": {
        "id": "AShMFSzdRaJJ",
        "colab_type": "code",
        "outputId": "b3f9ee9b-2557-4538-cc39-8c673bbbdce1",
        "colab": {
          "base_uri": "https://localhost:8080/",
          "height": 119
        }
      },
      "source": [
        "\n",
        "for i in range(len(input_text)):\n",
        "    input_seq[i] = [char2int[character] for character in input_seq[i]]\n",
        "    target_seq[i] = [char2int[character] for character in target_seq[i]]\n",
        "    print(input_seq[i])\n",
        "    print(target_seq[i])"
      ],
      "execution_count": 0,
      "outputs": [
        {
          "output_type": "stream",
          "text": [
            "[7, 4, 16, 0, 7, 11, 15, 0, 1, 12, 4, 0, 16, 11]\n",
            "[4, 16, 0, 7, 11, 15, 0, 1, 12, 4, 0, 16, 11, 13]\n",
            "[6, 11, 11, 3, 0, 8, 0, 1, 9, 0, 5, 8, 10, 4]\n",
            "[11, 11, 3, 0, 8, 0, 1, 9, 0, 5, 8, 10, 4, 0]\n",
            "[7, 1, 14, 4, 0, 1, 0, 10, 8, 2, 4, 0, 3, 1]\n",
            "[1, 14, 4, 0, 1, 0, 10, 8, 2, 4, 0, 3, 1, 16]\n"
          ],
          "name": "stdout"
        }
      ]
    },
    {
      "cell_type": "code",
      "metadata": {
        "id": "Si01wqsd-IoN",
        "colab_type": "code",
        "outputId": "ed048749-b5ac-4c08-a7b3-e6059961369b",
        "colab": {
          "base_uri": "https://localhost:8080/",
          "height": 68
        }
      },
      "source": [
        "\n",
        "\n",
        "dict_size = len(char2int)\n",
        "seq_len = maxlen - 1\n",
        "batch_size = len(input_text)\n",
        "# batch_size = 1\n",
        "print(\"dict_size : {}\" .format(dict_size))\n",
        "print(\"seq_len : {}\" .format(seq_len))\n",
        "print(\"batch_size : {}\" .format(batch_size))\n",
        "\n",
        "def one_hot_encode(sequence, dict_size, seq_len, batch_size):\n",
        "    # Creating a multi-dimensional array of zeros with the desired output shape\n",
        "    features = np.zeros((batch_size, seq_len, dict_size), dtype=np.float32)\n",
        "    \n",
        "    # Replacing the 0 at the relevant character index with a 1 to represent that character\n",
        "    for i in range(batch_size):\n",
        "        for u in range(seq_len):\n",
        "            features[i, u, sequence[i][u]] = 1\n",
        "    return features\n",
        "\n",
        "\n"
      ],
      "execution_count": 0,
      "outputs": [
        {
          "output_type": "stream",
          "text": [
            "dict_size : 17\n",
            "seq_len : 14\n",
            "batch_size : 3\n"
          ],
          "name": "stdout"
        }
      ]
    },
    {
      "cell_type": "code",
      "metadata": {
        "id": "YkH_5EdE-pQP",
        "colab_type": "code",
        "outputId": "bb19e46a-f5e8-4a27-ce40-386df3d5b4bb",
        "colab": {
          "base_uri": "https://localhost:8080/",
          "height": 34
        }
      },
      "source": [
        "input_seq = one_hot_encode(input_seq, dict_size, seq_len, batch_size)\n",
        "print(\"Input shape: {} --> (Batch Size, Sequence Length, One-Hot Encoding Size)\".format(input_seq.shape))\n",
        "# print(input_seq)"
      ],
      "execution_count": 0,
      "outputs": [
        {
          "output_type": "stream",
          "text": [
            "Input shape: (3, 14, 17) --> (Batch Size, Sequence Length, One-Hot Encoding Size)\n"
          ],
          "name": "stdout"
        }
      ]
    },
    {
      "cell_type": "code",
      "metadata": {
        "id": "JNGtUKJ9_QNS",
        "colab_type": "code",
        "colab": {}
      },
      "source": [
        "\n",
        "\n",
        "input_seq = torch.from_numpy(input_seq)\n",
        "target_seq = torch.Tensor(target_seq)"
      ],
      "execution_count": 0,
      "outputs": []
    },
    {
      "cell_type": "code",
      "metadata": {
        "id": "aH6nluWGd6lJ",
        "colab_type": "code",
        "outputId": "388435b0-5fd2-4584-8262-5fe8c804efbd",
        "colab": {
          "base_uri": "https://localhost:8080/",
          "height": 34
        }
      },
      "source": [
        "# torch.cuda.is_available() checks and returns a Boolean True if a GPU is available, else it'll return False\n",
        "is_cuda = torch.cuda.is_available()\n",
        "\n",
        "# If we have a GPU available, we'll set our device to GPU. We'll use this device variable later in our code.\n",
        "if is_cuda:\n",
        "    device = torch.device(\"cuda\")\n",
        "    print(\"GPU is available\")\n",
        "else:\n",
        "    device = torch.device(\"cpu\")\n",
        "    print(\"GPU not available, CPU used\")"
      ],
      "execution_count": 0,
      "outputs": [
        {
          "output_type": "stream",
          "text": [
            "GPU not available, CPU used\n"
          ],
          "name": "stdout"
        }
      ]
    },
    {
      "cell_type": "code",
      "metadata": {
        "id": "4zTOA2K0AiQn",
        "colab_type": "code",
        "colab": {}
      },
      "source": [
        "class Model(nn.Module):\n",
        "    def __init__(self, input_size, output_size, hidden_dim, n_layers):\n",
        "        super(Model, self).__init__()\n",
        "\n",
        "        # Defining some parameters\n",
        "        self.hidden_dim = hidden_dim\n",
        "        self.n_layers = n_layers\n",
        "\n",
        "        #Defining the layers\n",
        "        # RNN Layer\n",
        "        self.rnn = nn.RNN(input_size, hidden_dim, n_layers, batch_first=True)   \n",
        "        # Fully connected layer\n",
        "        self.fc = nn.Linear(hidden_dim, output_size)\n",
        "    \n",
        "    def forward(self, x):\n",
        "        \n",
        "        batch_size = x.size(0)\n",
        "\n",
        "        #Initializing hidden state for first input using method defined below\n",
        "        hidden = self.init_hidden(batch_size)\n",
        "\n",
        "        # Passing in the input and hidden state into the model and obtaining outputs\n",
        "        out, hidden = self.rnn(x, hidden)\n",
        "        print(\"forward x.shape :\" + str(x.shape))\n",
        "        print(\"forward rnn hidden.shape :\" + str(hidden.shape))\n",
        "        print(\"forward rnn out.shape : \" + str(out.shape))\n",
        "    \n",
        "        # Reshaping the outputs such that it can be fit into the fully connected layer\n",
        "        out = out.contiguous().view(-1, self.hidden_dim)\n",
        "        out = self.fc(out)\n",
        "        print(\"forward fc out.shape : \" + str(out.shape))\n",
        "        \n",
        "        return out, hidden\n",
        "    \n",
        "    def init_hidden(self, batch_size):\n",
        "        # This method generates the first hidden state of zeros which we'll use in the forward pass\n",
        "        hidden = torch.zeros(self.n_layers, batch_size, self.hidden_dim).to(device)\n",
        "         # We'll send the tensor holding the hidden state to the device we specified earlier as well\n",
        "        return hidden"
      ],
      "execution_count": 0,
      "outputs": []
    },
    {
      "cell_type": "code",
      "metadata": {
        "id": "X194ZX17J24G",
        "colab_type": "code",
        "outputId": "127dd94b-98a3-47bc-b3b4-870f4b5d9e2a",
        "colab": {
          "base_uri": "https://localhost:8080/",
          "height": 85
        }
      },
      "source": [
        "# Instantiate the model with hyperparameters\n",
        "model = Model(input_size=dict_size, output_size=dict_size, hidden_dim=12, n_layers=1)\n",
        "print(model)\n",
        "# We'll also set the model to the device that we defined earlier (default is CPU)\n",
        "model.to(device)\n",
        "\n",
        "# Define hyperparameters\n",
        "n_epochs = 5\n",
        "lr=0.01\n",
        "\n",
        "# Define Loss, Optimizer\n",
        "criterion = nn.CrossEntropyLoss()\n",
        "optimizer = torch.optim.Adam(model.parameters(), lr=lr)"
      ],
      "execution_count": 0,
      "outputs": [
        {
          "output_type": "stream",
          "text": [
            "Model(\n",
            "  (rnn): RNN(17, 12, batch_first=True)\n",
            "  (fc): Linear(in_features=12, out_features=17, bias=True)\n",
            ")\n"
          ],
          "name": "stdout"
        }
      ]
    },
    {
      "cell_type": "code",
      "metadata": {
        "id": "Ba2Zl8fXMIUL",
        "colab_type": "code",
        "outputId": "0045ca27-40a3-429f-a36c-aa0145f70658",
        "colab": {
          "base_uri": "https://localhost:8080/",
          "height": 85
        }
      },
      "source": [
        ""
      ],
      "execution_count": 0,
      "outputs": [
        {
          "output_type": "stream",
          "text": [
            "tensor([[-0.0017,  0.1453,  0.9029, -1.4500,  0.2217],\n",
            "        [ 0.3834, -1.3571,  0.0868, -0.0920, -0.7467],\n",
            "        [ 0.7457, -1.1687,  1.0527,  0.6568,  1.2617]], requires_grad=True)\n",
            "tensor([2, 4, 0])\n"
          ],
          "name": "stdout"
        }
      ]
    },
    {
      "cell_type": "code",
      "metadata": {
        "id": "BXkQv_kVd_rJ",
        "colab_type": "code",
        "outputId": "8200be27-1ded-44c6-810d-fbe2d0bc847b",
        "colab": {
          "base_uri": "https://localhost:8080/",
          "height": 612
        }
      },
      "source": [
        "# Training Run\n",
        "for epoch in range(1, n_epochs + 1):\n",
        "    optimizer.zero_grad() # Clears existing gradients from previous epoch\n",
        "    print(\"training input_seq.shape : \" + str(input_seq.shape))\n",
        "    input_seq = input_seq.to(device)\n",
        "    output, hidden = model(input_seq)\n",
        "    print(\"training target_seq.shape :\" + str(target_seq.shape)) # tensor([[0., 2., 2., 3.]])\n",
        "    # https://pytorch.org/docs/stable/nn.html -> explain shape of nn.CrossEntropyLoss()\n",
        "    \"\"\"\n",
        "    # temp_input = torch.randn(3, 5, requires_grad=True)\n",
        "    # temp_target = torch.empty(3, dtype=torch.long).random_(5)\n",
        "    # print(temp_input)\n",
        "    # print(temp_target)\n",
        "    \"\"\"\n",
        "    # print(target_seq.view(-1).long()) #tensor([0, 2, 2, 3])\n",
        "    loss = criterion(output, target_seq.view(-1).long())\n",
        "    loss.backward() # Does backpropagation and calculates gradients\n",
        "    optimizer.step() # Updates the weights accordingly\n",
        "    print()\n",
        "    \n",
        "    if epoch%10 == 0:\n",
        "        print('Epoch: {}/{}.............'.format(epoch, n_epochs), end=' ')\n",
        "        print(\"Loss: {:.4f}\".format(loss.item()))"
      ],
      "execution_count": 0,
      "outputs": [
        {
          "output_type": "stream",
          "text": [
            "training input_seq.shape : torch.Size([3, 14, 17])\n",
            "forward x.shape :torch.Size([3, 14, 17])\n",
            "forward rnn hidden.shape :torch.Size([1, 3, 12])\n",
            "forward rnn out.shape : torch.Size([3, 14, 12])\n",
            "forward fc out.shape : torch.Size([42, 17])\n",
            "training target_seq.shape :torch.Size([3, 14])\n",
            "\n",
            "training input_seq.shape : torch.Size([3, 14, 17])\n",
            "forward x.shape :torch.Size([3, 14, 17])\n",
            "forward rnn hidden.shape :torch.Size([1, 3, 12])\n",
            "forward rnn out.shape : torch.Size([3, 14, 12])\n",
            "forward fc out.shape : torch.Size([42, 17])\n",
            "training target_seq.shape :torch.Size([3, 14])\n",
            "\n",
            "training input_seq.shape : torch.Size([3, 14, 17])\n",
            "forward x.shape :torch.Size([3, 14, 17])\n",
            "forward rnn hidden.shape :torch.Size([1, 3, 12])\n",
            "forward rnn out.shape : torch.Size([3, 14, 12])\n",
            "forward fc out.shape : torch.Size([42, 17])\n",
            "training target_seq.shape :torch.Size([3, 14])\n",
            "\n",
            "training input_seq.shape : torch.Size([3, 14, 17])\n",
            "forward x.shape :torch.Size([3, 14, 17])\n",
            "forward rnn hidden.shape :torch.Size([1, 3, 12])\n",
            "forward rnn out.shape : torch.Size([3, 14, 12])\n",
            "forward fc out.shape : torch.Size([42, 17])\n",
            "training target_seq.shape :torch.Size([3, 14])\n",
            "\n",
            "training input_seq.shape : torch.Size([3, 14, 17])\n",
            "forward x.shape :torch.Size([3, 14, 17])\n",
            "forward rnn hidden.shape :torch.Size([1, 3, 12])\n",
            "forward rnn out.shape : torch.Size([3, 14, 12])\n",
            "forward fc out.shape : torch.Size([42, 17])\n",
            "training target_seq.shape :torch.Size([3, 14])\n",
            "\n"
          ],
          "name": "stdout"
        }
      ]
    },
    {
      "cell_type": "code",
      "metadata": {
        "id": "xKLGtyAe_aCu",
        "colab_type": "code",
        "colab": {}
      },
      "source": [
        "def predict(model, character):\n",
        "    # One-hot encoding our input to fit into the model\n",
        "    character = np.array([[char2int[c] for c in character]])\n",
        "    print(\"predict character before one_hot_encode : \" + str(character))\n",
        "    character = one_hot_encode(character, dict_size, character.shape[1], 1)\n",
        "    print(\"predict character after one_hot_encode : \\n\" + str(character))\n",
        "    character = torch.from_numpy(character)\n",
        "    character.to(device)\n",
        "\n",
        "    \"\"\"\n",
        "    [[1]]\n",
        "\n",
        "    [[[0. 1. 0. 0.]]]\n",
        "\n",
        "    predict char_ind :  0\n",
        "    new char : e\n",
        "\n",
        "    [[1 0]]\n",
        "\n",
        "    [[[0. 1. 0. 0.]\n",
        "    [1. 0. 0. 0.]]]\n",
        "\n",
        "    predict char_ind :  2\n",
        "    new char : l\n",
        "\n",
        "    [[1 0 2]]\n",
        "\n",
        "    [[[0. 1. 0. 0.]\n",
        "    [1. 0. 0. 0.]\n",
        "    [0. 0. 1. 0.]]]\n",
        "\n",
        "    predict char_ind :  2\n",
        "    new char : l\n",
        "\n",
        "    [[1 0 2 2]]\n",
        "\n",
        "    [[[0. 1. 0. 0.]\n",
        "    [1. 0. 0. 0.]\n",
        "    [0. 0. 1. 0.]\n",
        "    [0. 0. 1. 0.]]]\n",
        "\n",
        "    predict char_ind :  3\n",
        "    new char : o\n",
        "\n",
        "    \"\"\"\n",
        "\n",
        "    \"\"\"\n",
        "    How does RNN architecture actually look like?\n",
        "    for example, here hidden dim is 12 and length of input_seq is only 4\n",
        "    then what do we feed to other cells (like cell#5~ cell#11)\n",
        "\n",
        "    -> I thought hidden_dim is somewhat related to input_seq but it's actullay not.\n",
        "    length of input_seq will decide how many LSTM cell will be there. \n",
        "    and each LSTM cell has #<hidden_dim> of units inside.  \n",
        "    \n",
        "    \"\"\"\n",
        "\n",
        "    out, hidden = model(character)\n",
        "    print(\"predict out.shape :\" + str(out.shape))\n",
        "    print(\"predict hidden.shape :\" + str(hidden.shape))\n",
        "    print(\"predict out[-1].shape :\" + str(out[-1].shape))\n",
        "\n",
        "    prob = nn.functional.softmax(out[-1], dim=0).data\n",
        "    # Taking the class with the highest probability score from the output\n",
        "    char_ind = torch.max(prob, dim=0)[1].item()\n",
        "    print(\"predict char_ind : \" , char_ind)\n",
        "    print(\"prediction done\")\n",
        "    print(\"\")\n",
        "    return int2char[char_ind], hidden"
      ],
      "execution_count": 0,
      "outputs": []
    },
    {
      "cell_type": "code",
      "metadata": {
        "id": "9C07Hv95PY1j",
        "colab_type": "code",
        "colab": {}
      },
      "source": [
        "def sample(model, out_len, start='e'):\n",
        "    model.eval() # eval mode\n",
        "    start = start.lower()\n",
        "    # First off, run through the starting characters\n",
        "    chars = [ch for ch in start]\n",
        "    print(\"sample chars : :\",chars)\n",
        "    size = out_len - len(chars)\n",
        "    print(\"sample size : \" , size)\n",
        "    # Now pass in the previous characters and get a new one\n",
        "    for ii in range(size):\n",
        "        char, h = predict(model, chars)\n",
        "        print(\"new char :\" , char)\n",
        "        # initially chars has start(ex. 'hey') so it just need to add predicted chars at the end of <start>\n",
        "        chars.append(char)\n",
        "\n",
        "    print(\"last chars :\" , chars)\n",
        "    return ''.join(chars)"
      ],
      "execution_count": 0,
      "outputs": []
    },
    {
      "cell_type": "code",
      "metadata": {
        "id": "BCWa8JulPZ0s",
        "colab_type": "code",
        "outputId": "978f88a2-b9d5-479e-e39a-11d942e39311",
        "colab": {
          "base_uri": "https://localhost:8080/",
          "height": 1000
        }
      },
      "source": [
        "\n",
        "# print(sample(model, 6, 'hel'))\n",
        "# print()\n",
        "# print()\n",
        "# print(sample(model, 6, 'he'))\n",
        "# print()\n",
        "# print()\n",
        "print(sample(model, 7, 'h'))\n"
      ],
      "execution_count": 0,
      "outputs": [
        {
          "output_type": "stream",
          "text": [
            "sample chars : : ['h']\n",
            "sample size :  6\n",
            "predict character before one_hot_encode : [[7]]\n",
            "predict character after one_hot_encode : \n",
            "[[[0. 0. 0. 0. 0. 0. 0. 1. 0. 0. 0. 0. 0. 0. 0. 0. 0.]]]\n",
            "forward x.shape :torch.Size([1, 1, 17])\n",
            "forward rnn hidden.shape :torch.Size([1, 1, 12])\n",
            "forward rnn out.shape : torch.Size([1, 1, 12])\n",
            "forward fc out.shape : torch.Size([1, 17])\n",
            "predict out.shape :torch.Size([1, 17])\n",
            "predict hidden.shape :torch.Size([1, 1, 12])\n",
            "predict out[-1].shape :torch.Size([17])\n",
            "predict char_ind :  4\n",
            "prediction done\n",
            "\n",
            "new char : e\n",
            "predict character before one_hot_encode : [[7 4]]\n",
            "predict character after one_hot_encode : \n",
            "[[[0. 0. 0. 0. 0. 0. 0. 1. 0. 0. 0. 0. 0. 0. 0. 0. 0.]\n",
            "  [0. 0. 0. 0. 1. 0. 0. 0. 0. 0. 0. 0. 0. 0. 0. 0. 0.]]]\n",
            "forward x.shape :torch.Size([1, 2, 17])\n",
            "forward rnn hidden.shape :torch.Size([1, 1, 12])\n",
            "forward rnn out.shape : torch.Size([1, 2, 12])\n",
            "forward fc out.shape : torch.Size([2, 17])\n",
            "predict out.shape :torch.Size([2, 17])\n",
            "predict hidden.shape :torch.Size([1, 1, 12])\n",
            "predict out[-1].shape :torch.Size([17])\n",
            "predict char_ind :  4\n",
            "prediction done\n",
            "\n",
            "new char : e\n",
            "predict character before one_hot_encode : [[7 4 4]]\n",
            "predict character after one_hot_encode : \n",
            "[[[0. 0. 0. 0. 0. 0. 0. 1. 0. 0. 0. 0. 0. 0. 0. 0. 0.]\n",
            "  [0. 0. 0. 0. 1. 0. 0. 0. 0. 0. 0. 0. 0. 0. 0. 0. 0.]\n",
            "  [0. 0. 0. 0. 1. 0. 0. 0. 0. 0. 0. 0. 0. 0. 0. 0. 0.]]]\n",
            "forward x.shape :torch.Size([1, 3, 17])\n",
            "forward rnn hidden.shape :torch.Size([1, 1, 12])\n",
            "forward rnn out.shape : torch.Size([1, 3, 12])\n",
            "forward fc out.shape : torch.Size([3, 17])\n",
            "predict out.shape :torch.Size([3, 17])\n",
            "predict hidden.shape :torch.Size([1, 1, 12])\n",
            "predict out[-1].shape :torch.Size([17])\n",
            "predict char_ind :  4\n",
            "prediction done\n",
            "\n",
            "new char : e\n",
            "predict character before one_hot_encode : [[7 4 4 4]]\n",
            "predict character after one_hot_encode : \n",
            "[[[0. 0. 0. 0. 0. 0. 0. 1. 0. 0. 0. 0. 0. 0. 0. 0. 0.]\n",
            "  [0. 0. 0. 0. 1. 0. 0. 0. 0. 0. 0. 0. 0. 0. 0. 0. 0.]\n",
            "  [0. 0. 0. 0. 1. 0. 0. 0. 0. 0. 0. 0. 0. 0. 0. 0. 0.]\n",
            "  [0. 0. 0. 0. 1. 0. 0. 0. 0. 0. 0. 0. 0. 0. 0. 0. 0.]]]\n",
            "forward x.shape :torch.Size([1, 4, 17])\n",
            "forward rnn hidden.shape :torch.Size([1, 1, 12])\n",
            "forward rnn out.shape : torch.Size([1, 4, 12])\n",
            "forward fc out.shape : torch.Size([4, 17])\n",
            "predict out.shape :torch.Size([4, 17])\n",
            "predict hidden.shape :torch.Size([1, 1, 12])\n",
            "predict out[-1].shape :torch.Size([17])\n",
            "predict char_ind :  4\n",
            "prediction done\n",
            "\n",
            "new char : e\n",
            "predict character before one_hot_encode : [[7 4 4 4 4]]\n",
            "predict character after one_hot_encode : \n",
            "[[[0. 0. 0. 0. 0. 0. 0. 1. 0. 0. 0. 0. 0. 0. 0. 0. 0.]\n",
            "  [0. 0. 0. 0. 1. 0. 0. 0. 0. 0. 0. 0. 0. 0. 0. 0. 0.]\n",
            "  [0. 0. 0. 0. 1. 0. 0. 0. 0. 0. 0. 0. 0. 0. 0. 0. 0.]\n",
            "  [0. 0. 0. 0. 1. 0. 0. 0. 0. 0. 0. 0. 0. 0. 0. 0. 0.]\n",
            "  [0. 0. 0. 0. 1. 0. 0. 0. 0. 0. 0. 0. 0. 0. 0. 0. 0.]]]\n",
            "forward x.shape :torch.Size([1, 5, 17])\n",
            "forward rnn hidden.shape :torch.Size([1, 1, 12])\n",
            "forward rnn out.shape : torch.Size([1, 5, 12])\n",
            "forward fc out.shape : torch.Size([5, 17])\n",
            "predict out.shape :torch.Size([5, 17])\n",
            "predict hidden.shape :torch.Size([1, 1, 12])\n",
            "predict out[-1].shape :torch.Size([17])\n",
            "predict char_ind :  4\n",
            "prediction done\n",
            "\n",
            "new char : e\n",
            "predict character before one_hot_encode : [[7 4 4 4 4 4]]\n",
            "predict character after one_hot_encode : \n",
            "[[[0. 0. 0. 0. 0. 0. 0. 1. 0. 0. 0. 0. 0. 0. 0. 0. 0.]\n",
            "  [0. 0. 0. 0. 1. 0. 0. 0. 0. 0. 0. 0. 0. 0. 0. 0. 0.]\n",
            "  [0. 0. 0. 0. 1. 0. 0. 0. 0. 0. 0. 0. 0. 0. 0. 0. 0.]\n",
            "  [0. 0. 0. 0. 1. 0. 0. 0. 0. 0. 0. 0. 0. 0. 0. 0. 0.]\n",
            "  [0. 0. 0. 0. 1. 0. 0. 0. 0. 0. 0. 0. 0. 0. 0. 0. 0.]\n",
            "  [0. 0. 0. 0. 1. 0. 0. 0. 0. 0. 0. 0. 0. 0. 0. 0. 0.]]]\n",
            "forward x.shape :torch.Size([1, 6, 17])\n",
            "forward rnn hidden.shape :torch.Size([1, 1, 12])\n",
            "forward rnn out.shape : torch.Size([1, 6, 12])\n",
            "forward fc out.shape : torch.Size([6, 17])\n",
            "predict out.shape :torch.Size([6, 17])\n",
            "predict hidden.shape :torch.Size([1, 1, 12])\n",
            "predict out[-1].shape :torch.Size([17])\n",
            "predict char_ind :  4\n",
            "prediction done\n",
            "\n",
            "new char : e\n",
            "last chars : ['h', 'e', 'e', 'e', 'e', 'e', 'e']\n",
            "heeeeee\n"
          ],
          "name": "stdout"
        }
      ]
    },
    {
      "cell_type": "code",
      "metadata": {
        "id": "Q_GXXlU1PbdV",
        "colab_type": "code",
        "colab": {}
      },
      "source": [
        ""
      ],
      "execution_count": 0,
      "outputs": []
    }
  ]
}